{
 "cells": [
  {
   "cell_type": "markdown",
   "id": "224ee806-8841-455d-a1b1-893a009952a6",
   "metadata": {},
   "source": [
    "# Accessing Data in a Dataframe"
   ]
  },
  {
   "cell_type": "markdown",
   "id": "d0a0a27b-abec-443b-8726-93636090a6ea",
   "metadata": {
    "tags": [
     "metadata"
    ]
   },
   "source": [
    "## Metadata\n",
    "\n",
    "- Teaching: 60\n",
    "- Exercises: 0"
   ]
  },
  {
   "cell_type": "markdown",
   "id": "4db8f704-052c-4e25-8cd5-fa90f7f4234f",
   "metadata": {
    "tags": [
     "questions"
    ]
   },
   "source": [
    "## Questions\n",
    "\n",
    "- How can we look at individual rows and columns in a dataframe?\n",
    "- How can we perform calculations?\n",
    "- How can we modify the table and data?"
   ]
  },
  {
   "cell_type": "markdown",
   "id": "52aecff1-ebb5-4e88-b6d8-f70544da0bd2",
   "metadata": {
    "tags": [
     "objectives"
    ]
   },
   "source": [
    "## Objectives\n",
    "\n",
    "- Access individual rows and columns\n",
    "- Access multiple columns at once using a list\n",
    "- Perform calculations like addition and subtraction\n",
    "- Rename columns using a dictionary\n",
    "- Access rows containing specific data\n",
    "- Sort the data returned by a query\n",
    "- Modify data using loc"
   ]
  },
  {
   "cell_type": "markdown",
   "id": "8a3232b1-524e-4662-9498-c13fecaf84e7",
   "metadata": {},
   "source": [
    "We'll begin by importing pandas and reading our CSV, as we did in the previous lesson:"
   ]
  },
  {
   "cell_type": "code",
   "execution_count": null,
   "id": "6e254b66",
   "metadata": {
    "tags": []
   },
   "outputs": [],
   "source": [
    "import pandas as pd\n",
    "\n",
    "surveys = pd.read_csv(\"data/surveys.csv\")\n",
    "surveys"
   ]
  },
  {
   "cell_type": "markdown",
   "id": "bb741276",
   "metadata": {},
   "source": [
    "We will now look at how to access rows and columns in the dataframe.\n",
    "\n",
    "## Getting columns\n",
    "\n",
    "We can get the values from a single column by passing a string inside square brackets to the dataframe object. For example, to look at the year column, use:"
   ]
  },
  {
   "cell_type": "code",
   "execution_count": null,
   "id": "a9e2b496",
   "metadata": {},
   "outputs": [],
   "source": [
    "surveys[\"year\"]"
   ]
  },
  {
   "cell_type": "markdown",
   "id": "34b3ce4a-f710-47e9-b6fc-b148f99e5c4f",
   "metadata": {},
   "source": [
    "A single column is returned as a `Series`, which is why the output for this cell is formatted differently than the other cells in this lesson. The main difference between a `Series` and a `DataFrame` is that a `DataFrame` can have multiple columns. The two classes share many but not all attributes and methods. Note also that this is a copy of data from the original dataframe. Changing values in the series will have no effect on the original dataframe.\n",
    "\n",
    "### Using lists to get more than one column at a time\n",
    "\n",
    "Python uses the built-in `list` data type to store sequences, that is, an ordered list of objects. Any type of Python object can be stored in a list: strings, integers, floats, even other lists or collections. Once created, a list can be modified by appending, inserting, or deleting items. We will not be going into detail about these operations here, but as always you can learn more about how to use a list using `help()` or [the Python docs](https://docs.python.org/3/library/stdtypes.html#list).\n",
    "\n",
    "Create a list using square brackets. Let's create a list of the three columns in our dataframe that together give the date of an observation:"
   ]
  },
  {
   "cell_type": "code",
   "execution_count": null,
   "id": "0b5f5fd3-11e5-422c-af2c-4eab2f741c41",
   "metadata": {},
   "outputs": [],
   "source": [
    "cols = [\"year\", \"month\", \"day\"]"
   ]
  },
  {
   "cell_type": "markdown",
   "id": "72a5239d-854f-4fd2-b315-984e18ccf7d2",
   "metadata": {},
   "source": [
    "When we pass this list to the survey dataframe using square brackets, as we did above, we retrieve a copy of the dataframe containing just those columns. Note that, when we get more than one column, pandas returns a dataframe:"
   ]
  },
  {
   "cell_type": "code",
   "execution_count": null,
   "id": "b1900b96",
   "metadata": {},
   "outputs": [],
   "source": [
    "surveys[cols]"
   ]
  },
  {
   "cell_type": "markdown",
   "id": "624b4cca",
   "metadata": {
    "tags": []
   },
   "source": [
    "## Getting rows\n",
    "\n",
    "We can get the rows at the beginning of the table using the head method:"
   ]
  },
  {
   "cell_type": "code",
   "execution_count": null,
   "id": "528e4df2",
   "metadata": {},
   "outputs": [],
   "source": [
    "surveys.head()"
   ]
  },
  {
   "cell_type": "markdown",
   "id": "6806d90c",
   "metadata": {},
   "source": [
    "By default, this methods returns the first five rows. We can provide a number inside the parentheses if we need a specific number of rows:"
   ]
  },
  {
   "cell_type": "code",
   "execution_count": null,
   "id": "dfb318ea",
   "metadata": {},
   "outputs": [],
   "source": [
    "surveys.head(20)"
   ]
  },
  {
   "cell_type": "markdown",
   "id": "196cd04c",
   "metadata": {},
   "source": [
    "The `tail()` method is similar, except it returns rows from the end of the table:"
   ]
  },
  {
   "cell_type": "code",
   "execution_count": null,
   "id": "b74abe8f",
   "metadata": {},
   "outputs": [],
   "source": [
    "surveys.tail()"
   ]
  },
  {
   "cell_type": "markdown",
   "id": "c610186e-36eb-4678-a5df-9a8913066a85",
   "metadata": {},
   "source": [
    "The `head()` and `tail()` methods are useful for getting a feel for how our data is structured, but we'll also want to  be able to look at specific rows. As when we selected columns above, we can use square brackets to extract *slices* from the dataframe. A slice is a subset of the dataframe starting at one row and ending at another. To get a slice, we pass the starting and ending indexes to the square brackets as `start:end`:"
   ]
  },
  {
   "cell_type": "code",
   "execution_count": null,
   "id": "981d1ab3-1bfa-4291-8dd5-ec69ea40b9df",
   "metadata": {},
   "outputs": [],
   "source": [
    "surveys[2:5]"
   ]
  },
  {
   "cell_type": "markdown",
   "id": "1e676e9c-e1f4-4cf2-b5ce-244998294def",
   "metadata": {},
   "source": [
    "There are three things to be aware of when slicing a dataframe:\n",
    "\n",
    "- Row indexes are zero-based. That is, the first row has an index of 0, not 1.\n",
    "- When slicing, the slice includes start but not the end index. In this case, that means the slice includes rows 2, 3, and 4 but not 5.\n",
    "- The row label can be different from the row index. They happen to be the same here, but don't count on that being true.\n",
    "\n",
    "Core Python types like `list` and `tuple` use the same conventions, as do most libraries that deal with sequences."
   ]
  },
  {
   "cell_type": "markdown",
   "id": "2fe7e39a",
   "metadata": {},
   "source": [
    "## Getting unique values\n",
    "\n",
    "Recall that we can use square brackets to return a single column from a dataframe. We can get the list of unique values within that column using the `unique()` method:"
   ]
  },
  {
   "cell_type": "code",
   "execution_count": null,
   "id": "07e4a228",
   "metadata": {},
   "outputs": [],
   "source": [
    "surveys[\"species_id\"].unique()"
   ]
  },
  {
   "cell_type": "markdown",
   "id": "bc9c4fc8-041f-4336-8005-c44a8d3e4fa3",
   "metadata": {},
   "source": [
    "To do the same across multiple columns, we can use the `drop_duplicates()` method on a copy of the dataframe containing only the columns we're interested in. Like any well-named method, `drop_duplicates()` does exactly what the name implies: It returns a copy of the dataframe with all duplicate rows removed."
   ]
  },
  {
   "cell_type": "code",
   "execution_count": null,
   "id": "cbebbceb-3a00-4c4c-ab8d-2fb1a80ef783",
   "metadata": {
    "tags": []
   },
   "outputs": [],
   "source": [
    "surveys[[\"plot_id\", \"species_id\"]].drop_duplicates()"
   ]
  },
  {
   "cell_type": "markdown",
   "id": "ea4e5888-2aa9-44d6-b3aa-4e2bc06c36bf",
   "metadata": {},
   "source": [
    "## Calculating values\n",
    "\n",
    "The survey dataset includes two columns, hindfoot_length and weight, that are stored as numbers and represent measurements. We may want to perform calculations using numbers like these in our own data. We can do so using Python's built-in mathematical operators, including:\n",
    "\n",
    "- `x + y` for addition\n",
    "- `x - y` for subtraction\n",
    "- `x * y` for multiplication\n",
    "- `x / y` for division\n",
    "- `x % y` for calculating remainders\n",
    "- `x ** y` for exponents \n",
    "\n",
    "To make the examples in this section a little more useful, we're going to remove all rows that contain null values using the `dropna()` method. This will filter out any rows that don't have a valid hindfoot_length or weight, as well as those that have a null value in any other cell. (This is an inelegant solution to the problem of missing data. We'll talk about more nuanced solutions later in the lesson.)"
   ]
  },
  {
   "cell_type": "code",
   "execution_count": null,
   "id": "c0cf06d7-e382-46d1-b41a-05df52192efe",
   "metadata": {},
   "outputs": [],
   "source": [
    "surveys_nona = surveys.dropna().copy()\n",
    "surveys_nona"
   ]
  },
  {
   "cell_type": "markdown",
   "id": "bfca4dd7-bb6d-414b-bdf0-caa4838bcdfd",
   "metadata": {},
   "source": [
    "Suppose we want to convert the weight column from grams to milligrams. To do so, we can multiply that column by 1000:"
   ]
  },
  {
   "cell_type": "code",
   "execution_count": null,
   "id": "bb6c7c69",
   "metadata": {
    "tags": []
   },
   "outputs": [],
   "source": [
    "surveys_nona[\"weight\"] * 1000"
   ]
  },
  {
   "cell_type": "markdown",
   "id": "dc15e74b",
   "metadata": {},
   "source": [
    "To convert it to kilograms, we can divide by 1000:"
   ]
  },
  {
   "cell_type": "code",
   "execution_count": null,
   "id": "43a85ab5",
   "metadata": {},
   "outputs": [],
   "source": [
    "surveys_nona[\"weight\"] / 1000"
   ]
  },
  {
   "cell_type": "markdown",
   "id": "bfa43b35",
   "metadata": {},
   "source": [
    "Note that calculations do not modify the original dataset. If we want to retain the result, we have to assign it to a new column:"
   ]
  },
  {
   "cell_type": "code",
   "execution_count": null,
   "id": "4d0190b3",
   "metadata": {
    "tags": []
   },
   "outputs": [],
   "source": [
    "surveys_nona[\"weight_mg\"] = surveys_nona[\"weight\"] * 1000\n",
    "surveys_nona"
   ]
  },
  {
   "cell_type": "markdown",
   "id": "88d4040a-108a-4e7c-999a-073fb40914e5",
   "metadata": {},
   "source": [
    "We can also add, subtract, multiply, and divide columns, as in the following (admittedly nonsensical) calculation, which adds together the hindfoot_length and weight columns: "
   ]
  },
  {
   "cell_type": "code",
   "execution_count": null,
   "id": "40f2c917-f178-4bde-b780-18dcc207a373",
   "metadata": {
    "tags": []
   },
   "outputs": [],
   "source": [
    "surveys_nona[\"hindfoot_length\"] + surveys_nona[\"weight\"]"
   ]
  },
  {
   "cell_type": "markdown",
   "id": "d121d319",
   "metadata": {},
   "source": [
    "## Renaming columns\n",
    "\n",
    "The hindfoot_length and weight columns don't specify a unit, which may get confusing if we want to perform unit conversions like the one above. Fortunately, dataframes allow us to rename existing columns using the `rename()` method.\n",
    "\n",
    "The `rename()` method uses a dictionary (or `dict`) to map between the old and new column names. As with `list` above, the `dict` data type is built into Python--we don't need to import anything to use it. A `dict` maps keys to values. We can create one using curly braces:"
   ]
  },
  {
   "cell_type": "code",
   "execution_count": null,
   "id": "fa993200",
   "metadata": {},
   "outputs": [],
   "source": [
    "dct = {\"key1\": \"val1\", \"key2\": \"val2\"}\n",
    "dct"
   ]
  },
  {
   "cell_type": "markdown",
   "id": "2d684785-9cfe-4007-af2d-e544d274befc",
   "metadata": {},
   "source": [
    "Dictionaries are a useful and highly flexible data type. As with `list` above, we'll be giving them short shrift here, but you can learn more about them at [the Python docs](https://docs.python.org/3/library/stdtypes.html#dict).\n",
    "\n",
    "Here we'll use a `dict` to specify how we want to rename our columns. The *keys* will be the current column names and the *values* the new column names. Note that we explicitly assign the result of `rename()` to the original variable--by default, `rename()` returns a copy of the original dataframe instead of modifying the original dataframe."
   ]
  },
  {
   "cell_type": "code",
   "execution_count": null,
   "id": "4c3936d3",
   "metadata": {},
   "outputs": [],
   "source": [
    "# Create a dict that maps from the old to the new column name\n",
    "cols = {\n",
    "    \"hindfoot_length\": \"hindfoot_length_mm\",\n",
    "    \"weight\": \"weight_g\",\n",
    "}\n",
    "\n",
    "# Assign the result of the rename method back to surveys_nona\n",
    "surveys_nona = surveys_nona.rename(columns=cols)\n",
    "\n",
    "# View the dataframe with the new column names\n",
    "surveys_nona"
   ]
  },
  {
   "cell_type": "markdown",
   "id": "baeee8b3",
   "metadata": {
    "tags": [
     "challenge"
    ]
   },
   "source": [
    "### Challenge\n",
    "\n",
    "Create a dataframe that returns the year, month, day, species_id and weight in mg."
   ]
  },
  {
   "cell_type": "code",
   "execution_count": null,
   "id": "574ccd74",
   "metadata": {
    "tags": [
     "solution"
    ]
   },
   "outputs": [],
   "source": [
    "# Assign the weight in milligrams to the weight_mg column\n",
    "surveys_nona[\"weight_mg\"] = surveys_nona[\"weight_g\"] * 1000\n",
    "\n",
    "# Display a copy of survey with only the desired columns\n",
    "surveys_nona[[\"year\", \"month\", \"day\", \"species_id\", \"weight_mg\"]]"
   ]
  },
  {
   "cell_type": "markdown",
   "id": "d96f11c8-72f1-4a0f-9885-bad06c0c4280",
   "metadata": {},
   "source": [
    "## Filtering data\n",
    "\n",
    "pandas provides a variety of ways to filter a dataframe. For example, suppose we want to look at a specific species in the surveys_nona dataframe. We can view the rows matching a given species using the same square brackets we used above to select specific columns and rows. Here, however, instead of passing a value or list of values, we will pass a *conditional expression*.\n",
    "\n",
    "A conditional expression is a statement that evaluates as either True or False. They often make use of inequality operators, for example:\n",
    "\n",
    "- `==` for equals\n",
    "- `!=` for does not equal\n",
    "- `>` for greater than\n",
    "- `>=` for greater than or equal to\n",
    "- `<` for less than\n",
    "- `<=` for less than or equal to\n",
    "\n",
    "Examples of conditional statements include:\n",
    "\n",
    "+ `\"a\" == \"b\"` evaluates False\n",
    "+ `\"a\" != b\"` evaluates True\n",
    "+ `3 > 4` evaluates False\n",
    "\n",
    "Note that, when comparing strings, evaluations are case sensitive:\n",
    "\n",
    "+ `\"a\" == \"A\"` evaluates False"
   ]
  },
  {
   "cell_type": "markdown",
   "id": "94034764-67d5-4bf9-81fb-c337a0025476",
   "metadata": {
    "tags": [
     "callout"
    ]
   },
   "source": [
    "### = for assignment, == for equality\n",
    "\n",
    "Remember that, in Python, a single equal sign is used to assign values to variables. We've already used the assignment operator in this lesson, for example, when we created a new column in the dataframe."
   ]
  },
  {
   "cell_type": "markdown",
   "id": "5909fedb-f954-4bdf-bc3e-c11f64fd3f73",
   "metadata": {},
   "source": [
    "To limit the dataframe to rows matching the species \"DM\", include the conditional `surveys_nona[\"species_id\"] == \"DM\"` inside the square brackets:"
   ]
  },
  {
   "cell_type": "code",
   "execution_count": null,
   "id": "2bc5ecce",
   "metadata": {},
   "outputs": [],
   "source": [
    "surveys_nona[surveys_nona[\"species_id\"] == \"DM\"]"
   ]
  },
  {
   "cell_type": "markdown",
   "id": "3cffa735",
   "metadata": {},
   "source": [
    "To limit our results to observations made in or after 2000, use:"
   ]
  },
  {
   "cell_type": "code",
   "execution_count": null,
   "id": "6dc00554",
   "metadata": {},
   "outputs": [],
   "source": [
    "surveys_nona[surveys_nona[\"year\"] >= 2000]"
   ]
  },
  {
   "cell_type": "markdown",
   "id": "3ca49f13-7c7a-4519-9b15-8168d206e467",
   "metadata": {},
   "source": [
    "As with `rename()` above, each filtering operation returns a copy of the dataframe. We will look at how to make changes to the original dataframe at the end of this lesson."
   ]
  },
  {
   "cell_type": "markdown",
   "id": "7fc0ca41",
   "metadata": {},
   "source": [
    "## Building more complex queries\n",
    "\n",
    "We can combine conditionals using what are called *bitwise operators*:\n",
    "\n",
    "+ `&`: True if conditions on both sides of the operator are True (and)\n",
    "+ `|`: True if a condition on either side is True (or)\n",
    "\n",
    "To return all observations of DM in or after 2000, we can combine the two conditionals we used previously. Note that, when joining conditionals using `&` or `|`, we must wrap each individual condition in parentheses. If we omit the parentheses, pandas will not perform the comparisons in the expected order."
   ]
  },
  {
   "cell_type": "code",
   "execution_count": null,
   "id": "60491231",
   "metadata": {},
   "outputs": [],
   "source": [
    "surveys_nona[(surveys_nona[\"species_id\"] == \"DM\") & (surveys_nona[\"year\"] >= 2000)]"
   ]
  },
  {
   "cell_type": "markdown",
   "id": "c4cce15e",
   "metadata": {},
   "source": [
    "Some column methods can also be used for filtering. One example is `isin()`, which is used to match a list of values. This method can be combined with other conditionals as above. The example below returns rows from 2000 or later with either \"DM\", \"DO\", or \"DS\" in the species_id column:"
   ]
  },
  {
   "cell_type": "code",
   "execution_count": null,
   "id": "1597b129",
   "metadata": {},
   "outputs": [],
   "source": [
    "surveys_nona[\n",
    "    surveys_nona[\"species_id\"].isin([\"DM\", \"DO\", \"DS\"]) & (surveys_nona[\"year\"] >= 2000)\n",
    "]"
   ]
  },
  {
   "cell_type": "markdown",
   "id": "15466f1f",
   "metadata": {},
   "source": [
    "## Sorting data\n",
    "\n",
    "We can sort a dataframe using the `sort_values()` method. For this example, we'll work from the subset defined above. First we need to assign that subset to a variable:"
   ]
  },
  {
   "cell_type": "code",
   "execution_count": null,
   "id": "e462ab31-cad2-4fb6-a01d-7fa0db4eabdb",
   "metadata": {},
   "outputs": [],
   "source": [
    "results = surveys_nona[\n",
    "    surveys_nona[\"species_id\"].isin([\"DM\", \"DO\", \"DS\"]) & (surveys_nona[\"year\"] >= 2000)\n",
    "]"
   ]
  },
  {
   "cell_type": "markdown",
   "id": "a14f440d-810b-4a5f-8fcb-5587377ade5d",
   "metadata": {},
   "source": [
    "Now we'll sort the results by weight_g. To do so, pass that column name as an argument (that is, inside the trailing parentheses) to the `sort_values()` method:"
   ]
  },
  {
   "cell_type": "code",
   "execution_count": null,
   "id": "5e6557f4-b9d2-464c-a18e-5366dde1257a",
   "metadata": {
    "tags": []
   },
   "outputs": [],
   "source": [
    "results.sort_values(\"weight_g\")"
   ]
  },
  {
   "cell_type": "markdown",
   "id": "2bcf250e",
   "metadata": {},
   "source": [
    "By default, rows are sorted in ascending order (smallest to largest). We can modify this behavior using the *ascending* keyword argument:"
   ]
  },
  {
   "cell_type": "code",
   "execution_count": null,
   "id": "46222474",
   "metadata": {},
   "outputs": [],
   "source": [
    "results.sort_values(\"weight_g\", ascending=False)"
   ]
  },
  {
   "cell_type": "markdown",
   "id": "e1a42329",
   "metadata": {},
   "source": [
    "We can sort on multiple fields at once by passing a list of column names. We can control how each column sorts by passing a list with the same number of values (that is, one value per column) to the ascending keyword. The cell below sorts the results first by species_id (largest to smallest), then by weight (smallest to largest):"
   ]
  },
  {
   "cell_type": "code",
   "execution_count": null,
   "id": "a8be9795",
   "metadata": {},
   "outputs": [],
   "source": [
    "results.sort_values([\"species_id\", \"weight_g\"], ascending=[False, True])"
   ]
  },
  {
   "cell_type": "markdown",
   "id": "f71a5e55",
   "metadata": {},
   "source": [
    "As with the dataframe methods above, `sort_values()` returns a copy of the original dataframe and leaves the original untouched."
   ]
  },
  {
   "cell_type": "markdown",
   "id": "710cb178",
   "metadata": {
    "tags": [
     "challenge"
    ]
   },
   "source": [
    "### Challenge\n",
    "\n",
    "Write a query that returns year, species_id, and weight in kg from the surveys_nona table, sorted with the largest weights at the top."
   ]
  },
  {
   "cell_type": "code",
   "execution_count": null,
   "id": "bd0204b4",
   "metadata": {
    "tags": [
     "solution"
    ]
   },
   "outputs": [],
   "source": [
    "# Create a new column with weight in kg\n",
    "surveys_nona[\"weight_kg\"] = surveys_nona[\"weight_g\"] / 1000\n",
    "\n",
    "# Create a subset containing only year, species_id, and weight_kg\n",
    "subset = surveys_nona[[\"year\", \"species_id\", \"weight_kg\"]]\n",
    "\n",
    "# Sort the subset by weight_kg\n",
    "subset.sort_values(\"weight_kg\", ascending=False)"
   ]
  },
  {
   "cell_type": "markdown",
   "id": "eea203e5",
   "metadata": {},
   "source": [
    "## Modifying data\n",
    "\n",
    "We've already shown how to modify an existing a dataframe by adding a new column. What if we want to modify existing cells instead? As we've seen, this can be a little tricky in pandas because most of its methods return a copy of the original dataframe. For example, we can get subsets of a dataframe using square brackets. The cell below returns the species_id column for rows 2 through 5:"
   ]
  },
  {
   "cell_type": "code",
   "execution_count": null,
   "id": "61005807",
   "metadata": {},
   "outputs": [],
   "source": [
    "surveys[2:6][\"species_id\"]"
   ]
  },
  {
   "cell_type": "markdown",
   "id": "5370bcd5",
   "metadata": {},
   "source": [
    "But trying to set new values using this syntax may not work as expected. When working with the full dataframe, we can use \n",
    "\n",
    "\n",
    "Say we want to set the species_id column to a new value, \"FD\". Try running the code in the cell below:"
   ]
  },
  {
   "cell_type": "code",
   "execution_count": null,
   "id": "df17266f",
   "metadata": {},
   "outputs": [],
   "source": [
    "surveys[2:6][\"species_id\"] = \"FD\""
   ]
  },
  {
   "cell_type": "markdown",
   "id": "5699d389",
   "metadata": {},
   "source": [
    "You should have received a `SettingWithCopyWarning` warning after running that cell. This warning tells us that the data in the original dataframe has not been modified. This is because the square brackets returned a copy, meaning that any changes will be reflected in the copy, not the original. We can verify that the original dataframe has not been changed by displaying the rows that would have been modified:"
   ]
  },
  {
   "cell_type": "code",
   "execution_count": null,
   "id": "4b9996e3",
   "metadata": {},
   "outputs": [],
   "source": [
    "surveys[2:6]"
   ]
  },
  {
   "cell_type": "markdown",
   "id": "720466f5-1350-44bd-83c9-76bd7ddb2d0c",
   "metadata": {},
   "source": [
    "### Using loc to modify existing cells\n",
    "\n",
    "One way to modify existing data in pandas is to use the `loc` attribute. This attribute allows you to extract and modify cells in a DataFrame using the following syntax: `df.loc[row_indexer, col_indexer]`.\n",
    "\n",
    "The *row_indexer* argument is used to select one or more rows. It can be:\n",
    "- A row label (i.e., the bold column on the far left)\n",
    "    - `0` returns the row with label 0\n",
    "\n",
    "\n",
    "- A slice including multiple rows:\n",
    "    - `:` returns all rows\n",
    "    - `:2` returns all rows from the beginning of the dataframe to the row labeled 2, *inclusive*\n",
    "    - `2:` returns all rows from the row labeled 2 to the end of the dataframe, *inclusive*\n",
    "    - `2:5` returns all rows between those labeled 2 and 5, *inclusive*\n",
    "\n",
    "\n",
    "- A conditional, as in the examples above.\n",
    "\n",
    "The *col_indexer* argument is used to select one or more columns. It will typically be a list of column names and can be omitted, in which case all columns will be returned."
   ]
  },
  {
   "cell_type": "markdown",
   "id": "ca9a191d-e3ec-499d-b71a-35fa3a9f9539",
   "metadata": {
    "tags": [
     "callout"
    ]
   },
   "source": [
    "### Row labels and indexes\n",
    "\n",
    "The row labels in this dataframe happen to be numeric and aligned exactly to the row's index (so for the first row both the index and the label are 0, for the second row both the index and the label are 1, etc.) This is often **but not always** true in pandas. For example, if we used record_id as the label, the row labels would be one-based and the row indexes would be zero-based."
   ]
  },
  {
   "cell_type": "markdown",
   "id": "ece0aaa0-8c0f-4761-99ac-b6767bac46d8",
   "metadata": {
    "tags": [
     "callout"
    ]
   },
   "source": [
    "### loc slicing behavior\n",
    "\n",
    "Slices using `loc` are inclusive--rows matching both the start and end values are included in the returned slice. This differs from list slices, where the start but not end value is included in the slice. `loc` works this way because it is looking at the row *label*, not the row *index*."
   ]
  },
  {
   "cell_type": "markdown",
   "id": "fd5710ff-053c-4660-b98a-8a3cd83ff78d",
   "metadata": {},
   "source": [
    "We'll be making some changes to our data, so let's work from a copy instead of modifying the original. Create a copy using the `copy()` method:"
   ]
  },
  {
   "cell_type": "code",
   "execution_count": null,
   "id": "8d89af6c",
   "metadata": {},
   "outputs": [],
   "source": [
    "surveys_copy = surveys.copy()"
   ]
  },
  {
   "cell_type": "markdown",
   "id": "cfbc2ff0",
   "metadata": {},
   "source": [
    "To select a subset of rows and columns using `loc`, use:"
   ]
  },
  {
   "cell_type": "code",
   "execution_count": null,
   "id": "4d3ac512",
   "metadata": {},
   "outputs": [],
   "source": [
    "surveys_copy.loc[2:5, \"species_id\"]"
   ]
  },
  {
   "cell_type": "markdown",
   "id": "fc349443",
   "metadata": {},
   "source": [
    "Unlike the methods earlier in the lesson, this is a view, not a copy, of the data in the surveys_copy dataframe. That means that the object returned by loc is live and can be used to change the original dataframe. We can now assign a new value to the species_id column in the matching rows of the original dataframe:"
   ]
  },
  {
   "cell_type": "code",
   "execution_count": null,
   "id": "dcf69354",
   "metadata": {},
   "outputs": [],
   "source": [
    "surveys_copy.loc[2:5, \"species_id\"] = \"FD\""
   ]
  },
  {
   "cell_type": "markdown",
   "id": "680a94f9",
   "metadata": {},
   "source": [
    "We can see that these changes are reflected in the original surveys_copy object:"
   ]
  },
  {
   "cell_type": "code",
   "execution_count": null,
   "id": "39ef4087",
   "metadata": {},
   "outputs": [],
   "source": [
    "surveys_copy.loc[1:6, \"species_id\"]"
   ]
  },
  {
   "cell_type": "markdown",
   "id": "7e121666",
   "metadata": {
    "tags": [
     "callout"
    ]
   },
   "source": [
    "### Slicing with iloc\n",
    "\n",
    "pandas provides another indexer, `iloc`, that allows us to select and modify data using row and column indexes instead of labels. Learn more in the [pandas documentation](https://pandas.pydata.org/pandas-docs/stable/reference/api/pandas.DataFrame.iloc.html)."
   ]
  },
  {
   "cell_type": "markdown",
   "id": "536b274b-64eb-472e-ae00-ba30d761c310",
   "metadata": {
    "tags": [
     "keypoints"
    ]
   },
   "source": [
    "## Keypoints\n",
    "\n",
    "- Use square brackets to access rows, columns, and specific cells\n",
    "- Use operators like `+`, `-`, and `/` to perform arithmetic on rows and columns\n",
    "- Store the results of calculations in a dataframe by adding a new column or overwriting an existing column\n",
    "- Sort data, rename columns, and get unique values in a dataframe using methods provided by pandas\n",
    "- By default, most dataframe operations return a copy of the original data"
   ]
  }
 ],
 "metadata": {
  "kernelspec": {
   "display_name": "Python 3 (ipykernel)",
   "language": "python",
   "name": "python3"
  },
  "language_info": {
   "codemirror_mode": {
    "name": "ipython",
    "version": 3
   },
   "file_extension": ".py",
   "mimetype": "text/x-python",
   "name": "python",
   "nbconvert_exporter": "python",
   "pygments_lexer": "ipython3",
   "version": "3.9.13"
  },
  "toc": {
   "base_numbering": 1,
   "nav_menu": {},
   "number_sections": true,
   "sideBar": true,
   "skip_h1_title": true,
   "title_cell": "Table of Contents",
   "title_sidebar": "Contents",
   "toc_cell": false,
   "toc_position": {
    "height": "calc(100% - 180px)",
    "left": "10px",
    "top": "150px",
    "width": "277px"
   },
   "toc_section_display": true,
   "toc_window_display": true
  }
 },
 "nbformat": 4,
 "nbformat_minor": 5
}
