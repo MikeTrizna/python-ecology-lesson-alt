{
 "cells": [
  {
   "cell_type": "markdown",
   "id": "2a4d8739-72ff-45b7-8086-5868f6af73b5",
   "metadata": {},
   "source": [
    "# Setup\n",
    "\n",
    "This lesson uses JupyterLab and pandas to analyze and visualize data from an ecology dataset. It was adapted (and currently includes huge chunks of text lifted directly from) [Data Management with SQL for Ecologists](https://datacarpentry.org/sql-ecology-lesson/) and covers similar material to [Data Analysis and Visualization in Python for Ecologists](https://datacarpentry.org/python-ecology-lesson/). The idea was to create parallel lessons for SQL and Python for use by the Smithsonian Carpentries.\n",
    "\n",
    "This lesson is designed to use JupyterLab, an interactive development environment widely used for doing data science with Python. **The rest of this page provides instructions for setting up the software and data needed to complete this lesson. Please complete the setup prior to your scheduled lesson.**\n",
    "\n",
    "## Setup\n",
    "\n",
    "We will use a program called Miniconda to set up JupyterLab, so first we need to download and install [Miniconda (64 bit)](https://docs.conda.io/en/latest/miniconda.html).\n",
    "\n",
    "### Using the command prompt\n",
    "\n",
    "Once Miniconda is intalled, we can use the command prompt to install and run JupyterLab. Each operating system has one or more command prompts available. We recommend using the following applications for this lesson:\n",
    "\n",
    "- **Windows:** Use the Anaconda Prompt, which was installed as part of Miniconda. You can \n",
    "  find it by searching for Anaconda Prompt in the search box on the Windows toolbar.\n",
    "- **macOS:** Use the Terminal. You can find it by searching for Terminal using Spotlight.\n",
    "\n",
    "The commands given below may not work if a different command prompt application is used, so we'd strongly encourage you to use the recommended applications.\n",
    "\n",
    "### Installing JupyterLab\n",
    "\n",
    "Once the command prompt is open, run the following command to install the software needed for this course:\n",
    "\n",
    "```\n",
    "conda create -c conda-forge --yes --name py-ecology altair jupyterlab pandas \n",
    "```"
   ]
  },
  {
   "cell_type": "markdown",
   "id": "f709cb03-8f8e-4b96-81fe-848e65506e11",
   "metadata": {
    "tags": [
     "callout"
    ]
   },
   "source": [
    "#### Callout\n",
    "\n",
    "To run any of the commands presented here, copy-paste them into the command prompt, then press enter to run the command."
   ]
  },
  {
   "cell_type": "markdown",
   "id": "de5f5a8c-3ffb-41c9-ad47-85dee4c0897a",
   "metadata": {},
   "source": [
    "### Downloading data to the lesson folder\n",
    "\n",
    "Create the lesson folder and download the necessary data as follows: \n",
    "\n",
    "1. Create a folder called **python-ecology-lesson** on your desktop\n",
    "2. Create a folder called **data** inside the folder created in step 1\n",
    "3. Download the following files into the data folder:\n",
    "    - surveys.csv: https://figshare.com/ndownloader/files/10717177\n",
    "    - species.csv: https://figshare.com/ndownloader/files/3299483\n",
    "\n",
    "Alternatively, we can run the following commands in the command prompt to create the lesson folders and download the necessary data:\n",
    "\n",
    "```\n",
    "cd ~/Desktop\n",
    "mkdir python-ecology-lesson/data\n",
    "cd python-ecology-lesson/data\n",
    "wget -O surveys.csv https://figshare.com/ndownloader/files/10717177\n",
    "wget -O species.csv https://figshare.com/ndownloader/files/3299483\n",
    "```"
   ]
  },
  {
   "cell_type": "markdown",
   "id": "3430d70c-628f-4220-b86f-d5bd476e42b8",
   "metadata": {},
   "source": [
    "## Running JupyterLab\n",
    "\n",
    "Once JupyterLab has been installed, we can run it by opening the command prompt and running the following commands:\n",
    "\n",
    "```\n",
    "conda activate python-ecology-lesson\n",
    "cd ~/Desktop/python-ecology-lesson\n",
    "jupyter-lab\n",
    "```\n",
    "\n",
    "JupyterLab should now open in a new browser window. "
   ]
  },
  {
   "cell_type": "markdown",
   "id": "115d9d58-bb25-4371-94c5-6f5070713138",
   "metadata": {
    "tags": [
     "callout"
    ]
   },
   "source": [
    "### Callout\n",
    "\n",
    "Try running this command before the scheduled lesson -- does JupyterLab appear as expected? "
   ]
  }
 ],
 "metadata": {
  "kernelspec": {
   "display_name": "Python 3 (ipykernel)",
   "language": "python",
   "name": "python3"
  },
  "language_info": {
   "codemirror_mode": {
    "name": "ipython",
    "version": 3
   },
   "file_extension": ".py",
   "mimetype": "text/x-python",
   "name": "python",
   "nbconvert_exporter": "python",
   "pygments_lexer": "ipython3",
   "version": "3.10.4"
  }
 },
 "nbformat": 4,
 "nbformat_minor": 5
}
