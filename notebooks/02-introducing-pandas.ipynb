{
 "cells": [
  {
   "cell_type": "markdown",
   "id": "eb9f0d7b-ea96-46dd-932a-72c53ba03aa8",
   "metadata": {},
   "source": [
    "# Introducing pandas"
   ]
  },
  {
   "cell_type": "markdown",
   "id": "65c50e3e-128e-46ae-9fd8-ec1350d05779",
   "metadata": {
    "tags": [
     "questions"
    ]
   },
   "source": [
    "## Questions\n",
    "\n",
    "- What is pandas?\n",
    "- Why use pandas for data analysis?"
   ]
  },
  {
   "cell_type": "markdown",
   "id": "abf8ab74-ed30-440f-88a7-e6498faf2b35",
   "metadata": {
    "tags": [
     "objectives"
    ]
   },
   "source": [
    "## Objectives\n",
    "\n",
    "- Learn about the dataset we'll be working with\n",
    "- Import and display data from a CSV\n",
    "- Learn how pandas handles different types of data\n",
    "- Characterize data using info()\n"
   ]
  },
  {
   "cell_type": "markdown",
   "id": "e0bd88a0-d9c7-4a08-99f1-bda7ea5cbc33",
   "metadata": {},
   "source": [
    "## Dataset description\n",
    "\n",
    "The data we will be using is a time-series for a small mammal community in southern Arizona. This is part of a project studying the effects of rodents and ants on the plant community that has been running for almost 40 years. The rodents are sampled on a series of 24 plots, with different experimental manipulations controlling which rodents are allowed to access which plots.\n",
    "\n",
    "This is a real dataset that has been used in over 100 publications. We've simplified it for the workshop, but you can download the full dataset and work with it using exactly the same tools we'll learn about today.\n",
    "Questions\n",
    "\n",
    "Let's look at some of the cleaned spreadsheets you downloaded during Setup to complete this challenge. You'll need the following three files:\n",
    "\n",
    "- surveys.csv\n",
    "- species.csv\n",
    "\n",
    "### Answering questions using data\n",
    "\n",
    "In order to answer the questions described above, we'll need to do the following basic data operations:\n",
    "\n",
    "- select subsets of the data (rows and columns)\n",
    "- group subsets of data\n",
    "- do math and other calculations\n",
    "- combine data across spreadsheets\n",
    "\n",
    "In addition, we don't want to do this manually! Instead of searching for the right pieces of data ourselves, or clicking between spreadsheets, or manually sorting columns, we want to make the computer do the work.\n",
    "\n",
    "In particular, we want to use a tool where it's easy to repeat our analysis in case our data changes. We also want to do all this searching without actually modifying our source data."
   ]
  },
  {
   "cell_type": "markdown",
   "id": "d9382371-cf1f-415b-987e-1ab59fcc28c3",
   "metadata": {},
   "source": [
    "## Why use pandas?\n",
    "\n",
    "The Python Data Analysis Library, or pandas, is a Python library used to work with dataframes. A dataframe is very similar to a spreadsheet, consisting of rows and columns of data. It is a very common format for representing scientific data and is likely to be very familiar to anyone taking this course.\n",
    "\n",
    "pandas offers the same advantages as any well-written library: It creates a common codebase for working on a single task, in this case, analyzing data. Some benefits of this approach include:\n",
    "\n",
    "- **Reliability:** Provides flexible, well-tested methods for reading, querying, aggregating, grouping, and plotting data\n",
    "- **Repeatability:** Repeat the same analyses when data is added or changed\n",
    "- **Speed:** Faster in many cases than coding our own functions in Python\n",
    "- **Reproducibility:** Document and share code in narrative form using tools like Jupyter notebooks\n",
    "- **Community:** Access a large, active community for help when we run into problems\n",
    "\n",
    "## Importing data using pandas\n",
    "\n",
    "Unlike the libraries in the Python Standard Library discussed in the previous lesson, pandas is not part of the typical Python installation. Once it has been installed, however, it can be accessed using the same `import` command used to import the built-in libraries. By convention, pandas is imported using the alias \"pd\". We can assign the alias using the `as` keyword:"
   ]
  },
  {
   "cell_type": "code",
   "execution_count": null,
   "id": "f5b8e388-a5cf-4b7d-8b9b-743177082c77",
   "metadata": {},
   "outputs": [],
   "source": [
    "import pandas as pd"
   ]
  },
  {
   "cell_type": "markdown",
   "id": "9f0ad23a-4ed1-406a-a87a-4165e5083f5e",
   "metadata": {
    "tags": [
     "callout"
    ]
   },
   "source": [
    "### Callout\n",
    "\n",
    "Why use an alias? We will refer to pandas many, many times when writing a script, so it's useful to abbreviate the name and save some keystrokes. But it's also a matter of consistency with the larger community. Many of the core scientific Python libraries, including pandas, recommend a specific alias, so most code you find online will use those aliases as well."
   ]
  },
  {
   "cell_type": "markdown",
   "id": "446d3798-6598-45db-a0b9-555965ff27e2",
   "metadata": {},
   "source": [
    "Now the pandas has been imported, we can access the function we need to load data from a CSV, `pd.read_csv()`. The *call* has three parts:\n",
    "\n",
    "+ The name (or in this case, alias) of the object that defines the function. This can be a library, alias, or any other object. It can also be omitted in some cases (for example, when using a function built into Python).\n",
    "+ The name of the method we'd like to use\n",
    "+ A set of parentheses that tells the function to run.\n",
    "\n",
    "Many functions allow you to include both *arguments* and *keyword arguments* (collectively called *parameters*) inside the parentheses when calling the function. In this case, we will pass a single argument, which is a string defining the path to the surveys.csv file:"
   ]
  },
  {
   "cell_type": "code",
   "execution_count": null,
   "id": "479a9169-ed49-4af5-abb3-20cda06ccc36",
   "metadata": {},
   "outputs": [],
   "source": [
    "pd.read_csv(\"data/surveys.csv\")"
   ]
  },
  {
   "cell_type": "markdown",
   "id": "81f819c8-b546-4645-8b03-89329ddcdbf6",
   "metadata": {},
   "source": [
    "A few things to observe about this table:\n",
    "\n",
    "- The unlabeled column on the far left is the row label\n",
    "- `pandas` has done a lot of work behind the scenes when reading the data, including:\n",
    "    - Assigning the row index as the row label\n",
    "    - Assigning each column a data type based on its contents\n",
    "    - Assigning certain cells the value NaN, which stands for \"not a number\" and is used to designate null values in the dataset. Here, those cells represent blank cells in the spreadsheet.\n",
    "\n",
    "Most of this behavior can be controlled when the spreadsheet is first read by using keyword arguments. A keyword argument is a named parameter that you can use to control the behavior of a function. For example, to force `pd.read_csv()` to use the existing record_id column as the row label, use the `index_col` keyword argument:"
   ]
  },
  {
   "cell_type": "code",
   "execution_count": null,
   "id": "ef605032-6381-4082-a88c-f774edc3e6fb",
   "metadata": {},
   "outputs": [],
   "source": [
    "pd.read_csv(\"data/surveys.csv\", index_col=\"record_id\")"
   ]
  },
  {
   "cell_type": "markdown",
   "id": "b120e4ab-96fb-4b2c-bd76-2270d5c295db",
   "metadata": {},
   "source": [
    "Now record_id appears on the far left, indicating that `pandas` is using that column as the row label."
   ]
  },
  {
   "cell_type": "markdown",
   "id": "ada4e151-d64c-4ef8-bf32-19bf8f3ed276",
   "metadata": {
    "tags": [
     "challenge"
    ]
   },
   "source": [
    "### Challenge\n",
    "\n",
    "Run `help()` on the `pd.read_csv()` method (note that you should omit the trailing parentheses). Alternatively, take a look at the [much prettier documentation](https://pandas.pydata.org/pandas-docs/stable/reference/api/pandas.read_csv.html) provided by the pandas developers. Based on that information, answer the following questions:\n",
    "\n",
    "1. What parameter would you use to control how null values are interpreted?\n",
    "2. What values are interpreted as NaN by default?"
   ]
  },
  {
   "cell_type": "markdown",
   "id": "775b48ca-fee3-48f6-b691-4ea5ba48aae7",
   "metadata": {
    "tags": [
     "solution"
    ]
   },
   "source": [
    "### Show me the solution to challenge 1\n",
    "\n",
    "na_values"
   ]
  },
  {
   "cell_type": "markdown",
   "id": "41ec3b99-a546-4482-8df1-0efabf7806cf",
   "metadata": {
    "tags": [
     "solution"
    ]
   },
   "source": [
    "### Show me the solution to challenge 2\n",
    "\n",
    "- \"\"\n",
    "- \"#N/A\"\n",
    "- \"#N/A N/A\"\n",
    "- \"#NA\"\n",
    "- \"-1.#IND\"\n",
    "- \"-1.#QNAN\"\n",
    "- \"-NaN\"\n",
    "- \"-nan\"\n",
    "- \"1.#IND\"\n",
    "- \"1.#QNAN\"\n",
    "- \"<NA>\"\n",
    "- \"N/A\"\n",
    "- \"NA\"\n",
    "- \"NULL\"\n",
    "- \"NaN\"\n",
    "- \"n/a\"\n",
    "- \"nan\"\n",
    "- \"null\""
   ]
  },
  {
   "cell_type": "markdown",
   "id": "dba18f3a-632c-4329-8507-17f34e1044a4",
   "metadata": {},
   "source": [
    "## Assigning to variables\n",
    "\n",
    "We can assign the dataframe to a variable to make it easier to access. As we saw in the previous lesson, we use a single equals sign to assign an object to a variable. The variable name should be short and descriptive. By convention, variables in Python use snake_case (that is, lower case with individual words separated by underscores)."
   ]
  },
  {
   "cell_type": "code",
   "execution_count": null,
   "id": "fe992343-5de1-4d51-88a7-6fd41520540b",
   "metadata": {},
   "outputs": [],
   "source": [
    "surveys = pd.read_csv(\"data/surveys.csv\")\n",
    "surveys"
   ]
  },
  {
   "cell_type": "markdown",
   "id": "c9a7031a-0162-4d60-bdb1-4b6cebdc488a",
   "metadata": {},
   "source": [
    "## Understanding data types in pandas\n",
    "\n",
    "We can use the `info()` method to see how `pandas` interpreted each column in the dataset. This method gives use the name, count, and data type of each column and provides some information about the dataset as a whole (for example, memory usage, which is helpful to know when working with large datasets):"
   ]
  },
  {
   "cell_type": "code",
   "execution_count": null,
   "id": "1cfeca81-f3e1-4304-9941-f89511e668ec",
   "metadata": {},
   "outputs": [],
   "source": [
    "surveys.info()"
   ]
  },
  {
   "cell_type": "markdown",
   "id": "f5232dc0-3dca-469c-8e05-1040fdb9b064",
   "metadata": {},
   "source": [
    "Note that the data types used by pandas look a little different than the ones used by Python itself. See the table below for the rough equivalents.\n",
    "\n",
    "### Data types in pandas\n",
    "\n",
    "|Data Type|Description|Similar To|\n",
    "|-|-|-|\n",
    "|object|Character string or mixed|str|\n",
    "|int64|Integer numerical (no decimal)|int|\n",
    "|float64|Approximate numerical|float|\n",
    "|bool|Stores True or False values|bool|\n",
    "|datetime64|Stores date and time values|datetime.datetime|"
   ]
  },
  {
   "cell_type": "markdown",
   "id": "586079db-577f-48b1-99a1-767062f6d7e1",
   "metadata": {},
   "source": [
    "## Saving a dataframe\n",
    "\n",
    "When analyzing a dataset, we'll often want to save our work to a file. The `to_csv()` method can be used to write a dataframe to a CSV:  "
   ]
  },
  {
   "cell_type": "code",
   "execution_count": null,
   "id": "574d104b-4c35-4364-93b4-0cd6fbe5f097",
   "metadata": {},
   "outputs": [],
   "source": [
    "surveys.to_csv(\"data/surveys_mod.csv\", index=False)"
   ]
  },
  {
   "cell_type": "markdown",
   "id": "340bf6d4-14af-4db9-a4b0-dcca4e94a403",
   "metadata": {},
   "source": [
    "But that is far from the only option -- `pandas` supports a variety of file types for both reading and writing."
   ]
  }
 ],
 "metadata": {
  "kernelspec": {
   "display_name": "Python 3 (ipykernel)",
   "language": "python",
   "name": "python3"
  },
  "language_info": {
   "codemirror_mode": {
    "name": "ipython",
    "version": 3
   },
   "file_extension": ".py",
   "mimetype": "text/x-python",
   "name": "python",
   "nbconvert_exporter": "python",
   "pygments_lexer": "ipython3",
   "version": "3.10.4"
  },
  "toc": {
   "base_numbering": 1,
   "nav_menu": {},
   "number_sections": true,
   "sideBar": true,
   "skip_h1_title": true,
   "title_cell": "Table of Contents",
   "title_sidebar": "Contents",
   "toc_cell": false,
   "toc_position": {
    "height": "calc(100% - 180px)",
    "left": "10px",
    "top": "150px",
    "width": "277px"
   },
   "toc_section_display": true,
   "toc_window_display": true
  }
 },
 "nbformat": 4,
 "nbformat_minor": 5
}
