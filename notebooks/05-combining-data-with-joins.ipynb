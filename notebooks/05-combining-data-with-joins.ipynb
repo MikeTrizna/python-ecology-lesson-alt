{
 "cells": [
  {
   "cell_type": "markdown",
   "id": "73309cd7-b520-4501-9ce2-a3dfe7de75bf",
   "metadata": {},
   "source": [
    "# Combining Dataframes"
   ]
  },
  {
   "cell_type": "markdown",
   "id": "88094ee7-eca3-4057-aa97-57bc4b81d3cb",
   "metadata": {
    "tags": [
     "questions"
    ]
   },
   "source": [
    "## Questions\n",
    "\n",
    "- How do we combine data from multiple sources using pandas?\n",
    "- How do we add data to an existing dataframe?"
   ]
  },
  {
   "cell_type": "markdown",
   "id": "a51f7fc9-97cb-4364-8974-ce8f6fcf6235",
   "metadata": {
    "tags": [
     "objectives"
    ]
   },
   "source": [
    "## Objectives\n",
    "\n",
    "- Use merge to add species info to the survey dataset\n",
    "- Use concat to add additional rows the dataset"
   ]
  },
  {
   "cell_type": "markdown",
   "id": "960eb83c-4b55-4c49-b77a-1d84678544ec",
   "metadata": {},
   "source": [
    "Dataframes are used to organize and group data by common characteristics or principles. Often, we need to combine elements from separate tables into a single tables or queries for analysis and visualization. A join allows use to combine two dataframes using values common to each.\n",
    "\n",
    "The survey dataframe we've been using throughout this lesson has a column called species_id. We used this column in the previous lesson to calculate summary statistics about observations of each species. But the species_id is just a two-letter code--what does each code stand for? To find out, we'll now load both the survey dataset and a second dataset containing more detailed information about the various species observed:"
   ]
  },
  {
   "cell_type": "code",
   "execution_count": null,
   "id": "e3e47662-f95b-4446-b0ac-bc4ec1c011c1",
   "metadata": {},
   "outputs": [],
   "source": [
    "import pandas as pd\n",
    "\n",
    "surveys = pd.read_csv(\"data/surveys.csv\")\n",
    "species = pd.read_csv(\"data/species.csv\")\n",
    "\n",
    "species"
   ]
  },
  {
   "cell_type": "markdown",
   "id": "fd379518-d090-4d17-9054-ccc7c0ed604f",
   "metadata": {},
   "source": [
    "We can see that the species dataframe includes a genus, species, and taxon for each species_id. This is much more useful than the species_id included in the original dataframe--how can we add that data to our surveys dataframe? Adding it by hand would be tedious and error prone. Fortunately, `pandas` provides the `merge()` method to join two dataframes.\n",
    "\n",
    "To merge the surveys and species dataframes, use:"
   ]
  },
  {
   "cell_type": "code",
   "execution_count": null,
   "id": "57e61014-b3a5-4fe5-bcda-2596e5be3d47",
   "metadata": {},
   "outputs": [],
   "source": [
    "merged = surveys.merge(species)\n",
    "merged"
   ]
  },
  {
   "cell_type": "markdown",
   "id": "5422605a-67f9-4902-8e41-bf566b72a8ec",
   "metadata": {},
   "source": [
    "Following the merge, the genus, species, and taxa columns have all been added to the survey dataframe. We can now use those columns to filter and summarize our data."
   ]
  },
  {
   "cell_type": "markdown",
   "id": "c9dc9254-683d-422a-822c-ef62549e282f",
   "metadata": {
    "tags": [
     "callout"
    ]
   },
   "source": [
    "### Callout\n",
    "\n",
    "The `pd.merge()` method is equivalent to the JOIN operation in SQL"
   ]
  },
  {
   "cell_type": "markdown",
   "id": "2762b845-5a84-4fe8-97ab-0f4cffcc9bed",
   "metadata": {
    "tags": [
     "challenge"
    ]
   },
   "source": [
    "## Challenge\n",
    "\n",
    "Filter the merged dataframe to show the genus, the species name, and the weight for every individual captured at the site"
   ]
  },
  {
   "cell_type": "code",
   "execution_count": null,
   "id": "2908a4b1-4185-409d-9b1f-a3c40ab4b606",
   "metadata": {
    "tags": [
     "solution"
    ]
   },
   "outputs": [],
   "source": [
    "merged[[\"genus\", \"species\", \"weight\"]]"
   ]
  },
  {
   "cell_type": "markdown",
   "id": "e2990156-ba06-44b1-9575-37c2414bc4a4",
   "metadata": {},
   "source": [
    "In the example above, we didn't provide any information about how we wanted to merge the dataframes together, so pandas made an educated guess. It looked at the columns in each of the dataframes, then merged them based on the columns that appear in both. Here, the only shared name is species_id. If we want to control what columns are used to merge, we can use the *on* keyword argument:"
   ]
  },
  {
   "cell_type": "code",
   "execution_count": null,
   "id": "6e1c7a1c-e31f-4454-869f-000691e64675",
   "metadata": {},
   "outputs": [],
   "source": [
    "surveys.merge(species, on=\"species_id\")"
   ]
  },
  {
   "cell_type": "markdown",
   "id": "e30af5a4-f14e-470a-8b74-e3dfaa418b9b",
   "metadata": {
    "tags": [
     "challenge"
    ]
   },
   "source": [
    "## Challenge\n",
    "\n",
    "Compare the number of rows in the original and merged survey dataframes. How do they differ? Why do you think that might be?\n",
    "\n",
    "**Hint:** Use `pd.unique()` method to look at the species_id column in each dataframe."
   ]
  },
  {
   "cell_type": "code",
   "execution_count": null,
   "id": "0a106055-5902-4d25-a512-9bebe766eb90",
   "metadata": {
    "tags": [
     "solution"
    ]
   },
   "outputs": [],
   "source": [
    "# Some columns in survey are missing species_id\n",
    "set(surveys[\"species_id\"]) - set(species[\"species_id\"])"
   ]
  },
  {
   "cell_type": "markdown",
   "id": "dffc8e76-bce7-4722-aa05-2f312cdbd927",
   "metadata": {},
   "source": [
    "In practice, the values in the columns used to join two dataframes may not align exactly. Above, the surveys dataframe contains a few hundred rows where species_id is NaN. These are the rows that were dropped when the dataframes were merged. \n",
    "\n",
    "By default, `merge()` performs an **inner join**. This means that a row will only appear if the value in the shared column appears in both of the datasets being merged. In this case, that means that survey observations that don't have a species_id or have a species_id that does not appear in the species dataframe will be dropped.\n",
    "\n",
    "This is not always desirable behavior. Fortunately, `pandas` allows us to control how the merge is done.\n",
    "\n",
    "- **Inner:** Includes all rows with common values in the join column\n",
    "- **Left:** Include all rows from the left dataframe. Columns from the right dataframe are populated if a common value exists and set to NaN if not.\n",
    "- **Right:** Include all rows from the right dataframe. Columns from the left dataframe are populated if a common value exists and set to NaN if not.\n",
    "- **Outer:** Includes all rows from both dataframes\n",
    "\n",
    "We want to keep all of our observations, so let's do a left join instead. To specify the type of merge, we use the *how* keyword argument:"
   ]
  },
  {
   "cell_type": "code",
   "execution_count": null,
   "id": "7a103274-cb9e-497c-addc-e105aa2eadc7",
   "metadata": {},
   "outputs": [],
   "source": [
    "surveys.merge(species, how=\"left\")"
   ]
  },
  {
   "cell_type": "markdown",
   "id": "a3c09aad-a7b4-49dd-9e31-18fb9de88b58",
   "metadata": {},
   "source": [
    "Now all 35,549 rows appear in the merged dataframe."
   ]
  },
  {
   "cell_type": "markdown",
   "id": "068f0a72-c4ef-4237-801e-4aa17a733cd2",
   "metadata": {},
   "source": [
    "## Appending rows to a dataframe\n",
    "\n",
    "Merges address the case where information about the same set of observations is spread across multiple files. What about when the observations themselves are split into more than one file? For a survey like the one we've been looking at in this lesson, we might get a new file once a year with the same columns that represent a completely new set of observations. How can we add those new observations to our dataframe?\n",
    "\n",
    "We'll simulate this kind of thing by splitting two years worth of data into separate dataframes. We can do this using conditionals, as we saw in lesson 3:"
   ]
  },
  {
   "cell_type": "code",
   "execution_count": null,
   "id": "a7d8e2bb-13d3-46a2-9d3a-8127e7e64e9e",
   "metadata": {},
   "outputs": [],
   "source": [
    "surveys_2001 = surveys[surveys[\"year\"] == 2001].copy()\n",
    "surveys_2001"
   ]
  },
  {
   "cell_type": "code",
   "execution_count": null,
   "id": "b34a7b9e-77f5-4cde-866e-c14b40835205",
   "metadata": {},
   "outputs": [],
   "source": [
    "surveys_2002 = surveys[surveys[\"year\"] == 2002].copy()\n",
    "surveys_2002"
   ]
  },
  {
   "cell_type": "markdown",
   "id": "63fd1ad9-e026-4ec0-b829-fc555854963f",
   "metadata": {},
   "source": [
    "We now have two different dataframes with the same columns but different data, one with 1,610 rows, the other with 2,229 rows. We can combine them using `pd.concat()`, which stacks the dataframes horizontally (that is, it appends the 2002 dataset to the 2001 dataset):"
   ]
  },
  {
   "cell_type": "code",
   "execution_count": null,
   "id": "802fd51f-63aa-4d1d-b744-b2160bd4b28d",
   "metadata": {},
   "outputs": [],
   "source": [
    "surveys_2001_2002 = pd.concat([surveys_2001, surveys_2002])\n",
    "surveys_2001_2002"
   ]
  },
  {
   "cell_type": "markdown",
   "id": "e604d43d-83c2-4ba9-8c85-bdcb34a40114",
   "metadata": {},
   "source": [
    "The combined dataframe includes all rows from both dataframes.\n",
    "\n",
    "In some cases, the exact columns may change from year to year even within the same project. For example, researchers may decide to add an additional column to track a new piece of data or to provide a quality check. If a column is present in only one dataset, you can still concatenate the datasets. Any column that does not appear in one of the datasets will be set to NaN for those rows in the combined dataframe.\n",
    "\n",
    "To illustrate this, we'll add a validated column to the 2002 survey, then re-run `pd.concat()`:"
   ]
  },
  {
   "cell_type": "code",
   "execution_count": null,
   "id": "0bd5f239-842b-4809-84ad-d18d0a51d36a",
   "metadata": {},
   "outputs": [],
   "source": [
    "surveys_2002[\"validated\"] = True\n",
    "\n",
    "surveys_2001_2002 = pd.concat([surveys_2001, surveys_2002])\n",
    "surveys_2001_2002"
   ]
  },
  {
   "cell_type": "markdown",
   "id": "b128fdb2-bc25-4e49-bafb-260fc596b6af",
   "metadata": {},
   "source": [
    "As expected, validated has a value of NaN for the 2001 data in the combined dataframe."
   ]
  }
 ],
 "metadata": {
  "kernelspec": {
   "display_name": "Python 3 (ipykernel)",
   "language": "python",
   "name": "python3"
  },
  "language_info": {
   "codemirror_mode": {
    "name": "ipython",
    "version": 3
   },
   "file_extension": ".py",
   "mimetype": "text/x-python",
   "name": "python",
   "nbconvert_exporter": "python",
   "pygments_lexer": "ipython3",
   "version": "3.10.4"
  },
  "toc": {
   "base_numbering": 1,
   "nav_menu": {},
   "number_sections": true,
   "sideBar": true,
   "skip_h1_title": true,
   "title_cell": "Table of Contents",
   "title_sidebar": "Contents",
   "toc_cell": false,
   "toc_position": {
    "height": "calc(100% - 180px)",
    "left": "10px",
    "top": "150px",
    "width": "277px"
   },
   "toc_section_display": true,
   "toc_window_display": true
  }
 },
 "nbformat": 4,
 "nbformat_minor": 5
}
