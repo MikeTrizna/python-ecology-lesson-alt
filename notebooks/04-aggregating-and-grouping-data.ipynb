{
 "cells": [
  {
   "cell_type": "markdown",
   "id": "73309cd7-b520-4501-9ce2-a3dfe7de75bf",
   "metadata": {},
   "source": [
    "# Aggregating and Grouping Data"
   ]
  },
  {
   "cell_type": "markdown",
   "id": "53b2b12b-1cb7-46b3-9fde-691c842f231e",
   "metadata": {
    "tags": [
     "questions"
    ]
   },
   "source": [
    "## Questions\n",
    "\n",
    "- How do we calculate statistics using pandas?\n",
    "- How do we group data using pandas?\n",
    "- How do null values affect calculations using pandas?"
   ]
  },
  {
   "cell_type": "markdown",
   "id": "ed374ec6-219e-4a8b-892d-bf832c26f523",
   "metadata": {
    "tags": [
     "objectives"
    ]
   },
   "source": [
    "## Objectives\n",
    "\n",
    "- Introduce aggregation calculations in pandas\n",
    "- Introduce grouping in pandas\n",
    "- Learn about how pandas handles null values"
   ]
  },
  {
   "cell_type": "markdown",
   "id": "6f0c07fc-be55-45ef-b725-ae9d4335d566",
   "metadata": {},
   "source": [
    "As always, we'll begin by importing pandas and reading our CSV:"
   ]
  },
  {
   "cell_type": "code",
   "execution_count": null,
   "id": "6e254b66",
   "metadata": {},
   "outputs": [],
   "source": [
    "import pandas as pd\n",
    "\n",
    "surveys = pd.read_csv(\"data/surveys.csv\")"
   ]
  },
  {
   "cell_type": "markdown",
   "id": "7768db99-c76a-4b7c-bd00-77877115561e",
   "metadata": {},
   "source": [
    "## Aggregating data\n",
    "\n",
    "Aggregation allows us to combine results by grouping records based on value. It is also useful for calculating combined values in groups.\n",
    "\n",
    "Let’s go to the surveys table and find out how many observations are in our dataset. We've already seen that we can use the `info()` method to get high-level about the dataset, including the number of entries. What if just wanted the number of rows? In that case, we can use the built-in function `len()`, which is used to calculate the number of items in an object (for example, the number of characters in a string or the number of items in a list). When used on a dataframe, `len()` returns the number of rows:"
   ]
  },
  {
   "cell_type": "code",
   "execution_count": null,
   "id": "de1be4ac-92f8-4912-9c07-87b4719d34cb",
   "metadata": {},
   "outputs": [],
   "source": [
    "len(surveys)"
   ]
  },
  {
   "cell_type": "markdown",
   "id": "995143c6-e40e-460c-84dd-328a76961ded",
   "metadata": {},
   "source": [
    "`pandas` also provides a suite of aggregation methods. For example, we can find out the total weight of all the individuals in grams using `sum()`:"
   ]
  },
  {
   "cell_type": "code",
   "execution_count": null,
   "id": "4a4ff091-b75c-41c2-ab48-59ab96155d53",
   "metadata": {},
   "outputs": [],
   "source": [
    "surveys[\"weight\"].sum()"
   ]
  },
  {
   "cell_type": "markdown",
   "id": "78d08c48-592b-4d52-9ff3-4c2766b61ab6",
   "metadata": {},
   "source": [
    "Other aggregation methods supported by pandas include `min()`, `max()`, and `mean()`."
   ]
  },
  {
   "cell_type": "markdown",
   "id": "1996bcb1-1377-4af7-9b3d-b1cc5cef4177",
   "metadata": {
    "tags": [
     "challenge"
    ]
   },
   "source": [
    "## Challenge\n",
    "\n",
    "Calculate the total weight, average weight, minimum and maximum weights for all animals caught over the duration of the survey. Can you modify your code so that it outputs these values only for weights between 5 and 10 grams?"
   ]
  },
  {
   "cell_type": "code",
   "execution_count": null,
   "id": "ff3f911c-0891-497b-95e7-7f46ae9387b3",
   "metadata": {
    "tags": [
     "solution"
    ]
   },
   "outputs": [],
   "source": [
    "# Create a subset of only the animals between 5 and 10 grams\n",
    "weights = surveys[(surveys[\"weight\"] > 5) & (surveys[\"weight\"] < 10)][\"weight\"]\n",
    "\n",
    "# Display aggregation calculations using a dict\n",
    "{\n",
    "    \"sum\": weights.sum(),\n",
    "    \"mean\": weights.mean(),\n",
    "    \"min\": weights.min(),\n",
    "    \"max\": weights.max(),\n",
    "}"
   ]
  },
  {
   "cell_type": "markdown",
   "id": "1b664c7b-0ebd-416d-a58b-1ade6420ab07",
   "metadata": {},
   "source": [
    "To quickly generate summary statistics, we can use the `describe()` method. When you use this method on a dataframe, it calculates stats for all columns with numeric data:"
   ]
  },
  {
   "cell_type": "code",
   "execution_count": null,
   "id": "fa44a18c-d89d-465a-9a08-01d65ca21e58",
   "metadata": {},
   "outputs": [],
   "source": [
    "surveys.describe()"
   ]
  },
  {
   "cell_type": "markdown",
   "id": "0acb1c00-269c-495d-8450-3a91c62f5e1a",
   "metadata": {},
   "source": [
    "You can see that `describe()` isn't picky: It includes both ID and date columns in its results. Notice also that the counts differ in between columns. This is because `count()` only counts non-NaN rows.\n",
    "\n",
    "If you prefer, you can also describe a single column at a time:"
   ]
  },
  {
   "cell_type": "code",
   "execution_count": null,
   "id": "b3a41913-c2c6-4d39-8ce9-30abcc91d47c",
   "metadata": {},
   "outputs": [],
   "source": [
    "surveys[\"weight\"].describe()"
   ]
  },
  {
   "cell_type": "markdown",
   "id": "921196e1-1f46-463c-b67d-f4c6e061b478",
   "metadata": {},
   "source": [
    "If you need more control over the output (for example, if you want to calculate the total weight of all animals, as in the challenge above), pandas provides the `agg()` method:"
   ]
  },
  {
   "cell_type": "code",
   "execution_count": null,
   "id": "11383a9e-c9da-4289-a7df-cddc4df65963",
   "metadata": {},
   "outputs": [],
   "source": [
    "surveys.agg({\"weight\": [\"sum\", \"mean\", \"min\", \"max\"]})"
   ]
  },
  {
   "cell_type": "markdown",
   "id": "1509ae38-c08c-4cf8-b4d9-29268419a08c",
   "metadata": {},
   "source": [
    "## Grouping data\n",
    "\n",
    "Now, let’s see how many individuals were counted in each species. We do this using `groupby()`, which creates an object similar to a dataframe where rows are grouped by the data in one or more columns:"
   ]
  },
  {
   "cell_type": "code",
   "execution_count": null,
   "id": "74eae36c-6940-4d30-bfe6-8c0240c7968e",
   "metadata": {},
   "outputs": [],
   "source": [
    "grouped = surveys.groupby(\"species_id\")"
   ]
  },
  {
   "cell_type": "markdown",
   "id": "e902cd6d-e7de-4e3f-a367-93785743a621",
   "metadata": {},
   "source": [
    "When we aggregate the grouped data, `pandas` provides separate calculations for each member of the group. In the example below, we'll calculate the number of times each species appears in the dataset:"
   ]
  },
  {
   "cell_type": "code",
   "execution_count": null,
   "id": "a37e7d11-f8da-4e84-838c-3cf3d14065e4",
   "metadata": {},
   "outputs": [],
   "source": [
    "grouped[\"species_id\"].count()"
   ]
  },
  {
   "cell_type": "markdown",
   "id": "99861ee4-5cd4-4f90-b57f-b0af060f1735",
   "metadata": {
    "tags": [
     "challenge"
    ]
   },
   "source": [
    "## Challenge\n",
    "\n",
    "Write statements that return:\n",
    "\n",
    "1. How many individuals were counted in each year in total\n",
    "2. How many were counted each year, for each different species\n",
    "3. The average weights of each species in each year\n",
    "4. How many individuals were counted for each species that was observed more than 10 times\n",
    "\n",
    "Can you get the answer to both 2 and 3 in a single query?"
   ]
  },
  {
   "cell_type": "markdown",
   "id": "61d6d29e-67ab-4fb9-880a-be08bc16d3ae",
   "metadata": {
    "tags": [
     "solution"
    ]
   },
   "source": [
    "### Show me the solution to challenge 1"
   ]
  },
  {
   "cell_type": "code",
   "execution_count": null,
   "id": "69a4fe8b-6581-4e41-bb5b-2c32687604c5",
   "metadata": {
    "tags": [
     "continue"
    ]
   },
   "outputs": [],
   "source": [
    "# Individual counts per year\n",
    "surveys.groupby(\"year\")[\"record_id\"].count()"
   ]
  },
  {
   "cell_type": "markdown",
   "id": "e7b4b4ce-9701-4847-8a12-97ee4115b8bd",
   "metadata": {
    "tags": [
     "solution"
    ]
   },
   "source": [
    "### Show me the solution to challenge 2"
   ]
  },
  {
   "cell_type": "code",
   "execution_count": null,
   "id": "c660bda5-bbc0-4bc1-92e9-60c0917fe6d6",
   "metadata": {
    "tags": [
     "continue"
    ]
   },
   "outputs": [],
   "source": [
    "# Individual counts by species and year\n",
    "surveys.groupby([\"year\", \"species_id\"])[\"record_id\"].count()"
   ]
  },
  {
   "cell_type": "markdown",
   "id": "745c1fdf-8704-4e3f-af8a-7a205482d22e",
   "metadata": {
    "tags": [
     "solution"
    ]
   },
   "source": [
    "### Show me the solution to challenge 3"
   ]
  },
  {
   "cell_type": "code",
   "execution_count": null,
   "id": "871f2d1d-0e71-43c5-aa1b-a61ef3e74d0f",
   "metadata": {
    "tags": [
     "continue"
    ]
   },
   "outputs": [],
   "source": [
    "# Mean weight by species and year\n",
    "surveys.groupby([\"year\", \"species_id\"])[\"weight\"].mean()"
   ]
  },
  {
   "cell_type": "markdown",
   "id": "4c0ea4e1-d5c5-48c6-8fc6-4a131b0ba216",
   "metadata": {
    "tags": [
     "solution"
    ]
   },
   "source": [
    "### Show me the solution to challenge 4"
   ]
  },
  {
   "cell_type": "code",
   "execution_count": null,
   "id": "94deaee9-e282-4d21-be1d-5a2f9100c6ca",
   "metadata": {
    "tags": [
     "continue"
    ]
   },
   "outputs": [],
   "source": [
    "# Counts by species that appear more than 10 times\n",
    "species = surveys.groupby(\"species_id\")[\"record_id\"].count()\n",
    "species[species > 10]"
   ]
  },
  {
   "cell_type": "markdown",
   "id": "fa2273fa-cf16-4e69-a0e9-2f359ac794ac",
   "metadata": {
    "tags": [
     "solution"
    ]
   },
   "source": [
    "### Show me the solution to challenges 2 and 3 combined"
   ]
  },
  {
   "cell_type": "code",
   "execution_count": null,
   "id": "b58cd34a-e3e7-467f-8741-72151cc83ca5",
   "metadata": {
    "tags": [
     "continue"
    ]
   },
   "outputs": [],
   "source": [
    "# Counts and mean weight by species and year\n",
    "surveys.groupby([\"year\", \"species_id\"]).agg({\"record_id\": \"count\", \"weight\": \"mean\"})"
   ]
  },
  {
   "cell_type": "markdown",
   "id": "f06ae8f2-fa6e-404b-ad6d-8bb201b7b1a7",
   "metadata": {},
   "source": [
    "## Handling missing data\n",
    "\n",
    "You may have noticed that some columns in the surveys dataframe have the value NaN instead of text or numbers. NaN, short for \"not a number,\" is a special type of float used by pandas to represent missing data. When reading from a CSV, as we have done throughout this lesson, pandas interprets certains values as NaN (see *na_values* in the [pd.read_csv() documentation](https://pandas.pydata.org/pandas-docs/stable/reference/api/pandas.read_csv.html) for the default list). NaNs are excluded from most aggregation calculations in `pandas`, including counts.\n",
    "\n",
    "It is crucial to understand how missing data is represented in your dataset. Failing to do so may introduce errors into your analysis. The ecology dataset used in this lesson uses empty cells to represent missing data, but other disciplines have different conventions. For example, some geographic datasets use -9999 to represent null values. Failure to convert that value to NaN would produce significant errors in any calculations performed on that dataset."
   ]
  }
 ],
 "metadata": {
  "kernelspec": {
   "display_name": "Python 3 (ipykernel)",
   "language": "python",
   "name": "python3"
  },
  "language_info": {
   "codemirror_mode": {
    "name": "ipython",
    "version": 3
   },
   "file_extension": ".py",
   "mimetype": "text/x-python",
   "name": "python",
   "nbconvert_exporter": "python",
   "pygments_lexer": "ipython3",
   "version": "3.10.4"
  },
  "toc": {
   "base_numbering": 1,
   "nav_menu": {},
   "number_sections": true,
   "sideBar": true,
   "skip_h1_title": true,
   "title_cell": "Table of Contents",
   "title_sidebar": "Contents",
   "toc_cell": false,
   "toc_position": {
    "height": "calc(100% - 180px)",
    "left": "10px",
    "top": "150px",
    "width": "277px"
   },
   "toc_section_display": true,
   "toc_window_display": true
  }
 },
 "nbformat": 4,
 "nbformat_minor": 5
}
