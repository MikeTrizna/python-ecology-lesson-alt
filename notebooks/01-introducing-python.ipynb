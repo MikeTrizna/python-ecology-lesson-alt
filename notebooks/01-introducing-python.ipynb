{
 "cells": [
  {
   "cell_type": "markdown",
   "id": "d4857dd5-634e-48fb-b19e-89e2d7947678",
   "metadata": {
    "tags": []
   },
   "source": [
    "# Introducing Python"
   ]
  },
  {
   "cell_type": "markdown",
   "id": "296e4c82-12fd-4526-bbb5-57cecd0b7fbf",
   "metadata": {
    "tags": [
     "questions"
    ]
   },
   "source": [
    "## Questions\n",
    "\n",
    "- What is Python?\n",
    "- How do we assign variables in Python?\n",
    "- How does Python handle different types of data?"
   ]
  },
  {
   "cell_type": "markdown",
   "id": "cce1c7ef-3291-4cda-a04c-2c4ebd989c94",
   "metadata": {
    "tags": [
     "objectives"
    ]
   },
   "source": [
    "## Objectives\n",
    "\n",
    "- Introduce some Python terminology\n",
    "- Learn how to assign values to variables\n",
    "- Learn how to call functions and methods\n",
    "- Introduce the built-in Python data types and functions\n",
    "- Introduce the Python Standard Library"
   ]
  },
  {
   "cell_type": "markdown",
   "id": "4ce49471-1cfd-4b3e-b425-26213f21ed47",
   "metadata": {
    "tags": []
   },
   "source": [
    "## Using Python\n",
    "\n",
    "Python is a high-level, general purpose language. In practical terms, that means it dispenses with many of the complexities of writing code.\n",
    "\n",
    "A core philosophical tenet of Python is that code is read more often than it is written. Best practices for coding in Python therefore emphasize writing well-documented, consistently formatted code that follows language-wide standards. **In a Pythonic world, everyone's code would look the same.**\n",
    "\n",
    "## Terms\n",
    "\n",
    "Everything in Python is an *object*. Each object has a *type*, which controls what the kind of things the object can do. For example, you can add integers together or append a string to a list. An object can be *assigned* to a *variable*, and a *function* performs an action.\n",
    "\n",
    "Python is an *object-oriented language*. This means that each object includes built-in variables and functions that can be used from the object itself. When working from an object, we use different terms to refer to these concepts:\n",
    "\n",
    "+ an *attribute* stores a piece of data\n",
    "+ a *method* performs an action\n",
    "\n",
    "Let's look at one of the main built-in types, `str`, to see how this works in practice. In Python, `str`, short for string, is used to store and manipulate text. To get started, we'll assign the string \"hello world\" to the variable **text**. In Python, we use a single equal sign for assignment and use quotes to define the string."
   ]
  },
  {
   "cell_type": "markdown",
   "id": "4494cb1a-5a98-4648-8b7f-7daf3510510b",
   "metadata": {
    "tags": [
     "callout"
    ]
   },
   "source": [
    "### Callout\n",
    "\n",
    "Either single or double quotes can be used to create strings, but be careful to use them consistently! We will use double quotes in the examples here."
   ]
  },
  {
   "cell_type": "code",
   "execution_count": null,
   "id": "5543c789-8999-435d-808b-a215a4a5ac45",
   "metadata": {},
   "outputs": [],
   "source": [
    "text = \"hello world\""
   ]
  },
  {
   "cell_type": "markdown",
   "id": "87cf2737-bc67-45c7-815e-9a4b5cbb42e0",
   "metadata": {},
   "source": [
    "Now we can access that string by referring to that variable:"
   ]
  },
  {
   "cell_type": "code",
   "execution_count": null,
   "id": "6b74a28c-2ed1-4738-9d53-bc88097a6f34",
   "metadata": {},
   "outputs": [],
   "source": [
    "text"
   ]
  },
  {
   "cell_type": "markdown",
   "id": "32a616c6-3040-44dc-bb60-fe056a81e6d2",
   "metadata": {},
   "source": [
    "We can check the type of the variable using the `type()` function:"
   ]
  },
  {
   "cell_type": "code",
   "execution_count": null,
   "id": "fe9161a6-c1cf-47d4-be9e-134f1a6ded01",
   "metadata": {},
   "outputs": [],
   "source": [
    "type(text)"
   ]
  },
  {
   "cell_type": "markdown",
   "id": "d40c0cce-33d2-414f-8eae-80559c049dce",
   "metadata": {},
   "source": [
    "We can modify the text by calling one of the built-in methods. We call methods by appending a period and the name of the method to the object. For example, to display the string as upper case, use `upper()`:"
   ]
  },
  {
   "cell_type": "code",
   "execution_count": null,
   "id": "87a953bb-f033-46bf-8973-7c6bbf0073d7",
   "metadata": {},
   "outputs": [],
   "source": [
    "text.upper()"
   ]
  },
  {
   "cell_type": "markdown",
   "id": "74a0e569-481c-451c-86be-b04f2609142f",
   "metadata": {},
   "source": [
    "Each object may contain many attributes and methods. Use the `help()` function on an object, including functions or methods, to print a description of the object and lists the available methods."
   ]
  },
  {
   "cell_type": "code",
   "execution_count": null,
   "id": "186743c0-70a1-4ede-bfed-77433e8d86a8",
   "metadata": {},
   "outputs": [],
   "source": [
    "help(str)"
   ]
  },
  {
   "cell_type": "markdown",
   "id": "57f08c38-6a59-41d6-996c-fb65164f5ee4",
   "metadata": {},
   "source": [
    "### Data types\n",
    "\n",
    "Python defines data types for representing other types of data, including numbers or collections of data. The core Python data types are introduced in the table below. We'll talk more about some of these as we encounter them in the lesson:\n",
    "\n",
    "|Type|Definition|Example|\n",
    "|-|-|-|\n",
    "|[str](https://docs.python.org/3/library/string.html)|Character string|`\"hello world\"`|\n",
    "|[int](https://docs.python.org/3/library/functions.html#int)|Integer numerical|`42`|\n",
    "|[float](https://docs.python.org/3/library/functions.html#float)|Approximate numerical|`0.406`|\n",
    "|[bool](https://docs.python.org/3/library/functions.html#bool)|Stores True or False values|`True` or `False`|\n",
    "|[list](https://docs.python.org/3/library/stdtypes.html#lists)|Sequence that can be modified|`[\"a\", \"b\", \"c\"]`|\n",
    "|[tuple](https://docs.python.org/3/library/stdtypes.html#tuples)|Sequence that cannot be modified|`(\"a\", \"b\", \"c\")`|\n",
    "|[dict](https://docs.python.org/3/library/stdtypes.html#mapping-types-dict)|Mapping of keys to values|`{\"DC\": \"District of Columbia\"}`|\n",
    "|[set](https://docs.python.org/3/library/stdtypes.html#set-types-set-frozenset)|Collection of unique values|`{\"1\", \"2\", 1}`|"
   ]
  },
  {
   "cell_type": "markdown",
   "id": "a0761c8a-6a9c-4ad2-b1ea-7a7232da0101",
   "metadata": {},
   "source": [
    "## Libraries\n",
    "\n",
    "Python includes a number of [built-in functions](https://docs.python.org/3/library/functions.html) that are available wherever Python is installed. See the table below for some examples.\n",
    "\n",
    "### Examples of built-in functions\n",
    "\n",
    "|Name|Description|Example|\n",
    "|-|-|-|\n",
    "|[`abs()`](https://docs.python.org/3/library/functions.html#abs)|Gets the absolute value of a number|`abs(-1.5) # returns 1.5`|\n",
    "|[`max()`](https://docs.python.org/3/library/functions.html#max)|Gets the highest value in a sequence|`min([1, 2, 3]) # returns 3`|\n",
    "|[`min()`](https://docs.python.org/3/library/functions.html#min)|Gets the lowest value in a sequence|`min([1, 2, 3]) # returns 1`|\n",
    "|[`round()`](https://docs.python.org/3/library/functions.html#round)|Rounds a number to the nearest integer|`round(5.4) # returns 5`|\n",
    "\n",
    "Python also includes a number of built-in libraries. A *library* bundles functions and other code related to a single task or data type. They are used to simplify the performance of common tasks. By using a common code base, a library allows coders to work more quickly and with fewer errors. \n",
    "\n",
    "The libraries built into Python are referred to as the [Python Standard Library](https://docs.python.org/3/library/index.html). They can be accessed through a typical Python installation and do not require any additional downloads. A few examples are included in the table below, but as with the table of built-in functions, there are more where those came from.\n",
    "\n",
    "### Examples from the Python Standard Library\n",
    "\n",
    "|Library|Description|\n",
    "|-|-|\n",
    "|[datetime](https://docs.python.org/3/library/datetime.html)|Reads, writes, and analyzes dates and times|\n",
    "|[os](https://docs.python.org/3/library/os.html)|Create, manipulate, and get information about files and paths|\n",
    "|[random](https://docs.python.org/3/library/random.html)|Generate pseudo-random numbers|\n",
    "\n",
    "Unlike the built-in functions, we must import a library before we can use it:"
   ]
  },
  {
   "cell_type": "code",
   "execution_count": null,
   "id": "0a442b1f-39cf-4379-a166-6fcdaf801b83",
   "metadata": {},
   "outputs": [],
   "source": [
    "import datetime"
   ]
  },
  {
   "cell_type": "markdown",
   "id": "7bf47e4c-dbb0-4d6f-8014-9dee5b08ac5d",
   "metadata": {},
   "source": [
    "We must use the name of the library to access the functions it includes. For example, to create a `datetime.date` object (that is, a `date` object defined by the `datetime` library), we include both the library and method name:"
   ]
  },
  {
   "cell_type": "code",
   "execution_count": null,
   "id": "4505b3be-52de-440f-b3f2-9f0a62b8f242",
   "metadata": {},
   "outputs": [],
   "source": [
    "date = datetime.date(1970, 1, 1)"
   ]
  },
  {
   "cell_type": "markdown",
   "id": "44f2089e-cebc-4552-9e20-e6dfe64dbc7a",
   "metadata": {},
   "source": [
    "As with the built-in types, the `datetime.date` object includes its own suite of attributes and methods. We can, for example, use the year attribute to get the year:"
   ]
  },
  {
   "cell_type": "code",
   "execution_count": null,
   "id": "d487fc1c-e0a0-435c-85e8-5429ae854d37",
   "metadata": {},
   "outputs": [],
   "source": [
    "date.year"
   ]
  },
  {
   "cell_type": "markdown",
   "id": "bfb5c8a9-21c8-4719-91c2-3cbc015d5d04",
   "metadata": {},
   "source": [
    "Or format the date in a specific way using [date format codes](https://docs.python.org/3/library/datetime.html#strftime-and-strptime-format-codes). Here, %Y corresponds to YYYY, %m to MM, and %d to DD."
   ]
  },
  {
   "cell_type": "code",
   "execution_count": null,
   "id": "9e247e84-bc1d-4916-9a83-0f324fb5b3b9",
   "metadata": {},
   "outputs": [],
   "source": [
    "date.strftime(\"%Y-%m-%d\")"
   ]
  },
  {
   "cell_type": "markdown",
   "id": "35ba09fa-a047-4a6e-b1dc-b7c1c6b410ce",
   "metadata": {},
   "source": [
    "Like Python itself, the Python Standard Library is maintained by the Python Software Foundation. The built-in libraries are limited to a relatively small set of operations expected to be useful to a broad population of users. However, Python allows users to create their own libraries to perform actions that are beyond the scope of core Python. The rest of this lesson will focus on an external library called `pandas`."
   ]
  }
 ],
 "metadata": {
  "kernelspec": {
   "display_name": "Python 3 (ipykernel)",
   "language": "python",
   "name": "python3"
  },
  "language_info": {
   "codemirror_mode": {
    "name": "ipython",
    "version": 3
   },
   "file_extension": ".py",
   "mimetype": "text/x-python",
   "name": "python",
   "nbconvert_exporter": "python",
   "pygments_lexer": "ipython3",
   "version": "3.10.4"
  },
  "toc": {
   "base_numbering": 1,
   "nav_menu": {},
   "number_sections": true,
   "sideBar": true,
   "skip_h1_title": true,
   "title_cell": "Table of Contents",
   "title_sidebar": "Contents",
   "toc_cell": false,
   "toc_position": {
    "height": "calc(100% - 180px)",
    "left": "10px",
    "top": "150px",
    "width": "277px"
   },
   "toc_section_display": true,
   "toc_window_display": true
  }
 },
 "nbformat": 4,
 "nbformat_minor": 5
}
