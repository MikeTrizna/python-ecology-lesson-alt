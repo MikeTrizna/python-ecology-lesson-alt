{
 "cells": [
  {
   "cell_type": "markdown",
   "id": "2a4d8739-72ff-45b7-8086-5868f6af73b5",
   "metadata": {},
   "source": [
    "# References\n",
    "\n",
    "Based on Data Management with SQL for Ecologists\n",
    "\n",
    "## Glossary\n",
    "\n",
    "Behold! A glossary."
   ]
  }
 ],
 "metadata": {
  "language_info": {
   "name": "python"
  }
 },
 "nbformat": 4,
 "nbformat_minor": 5
}
