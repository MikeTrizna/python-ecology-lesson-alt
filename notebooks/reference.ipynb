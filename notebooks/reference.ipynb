{
 "cells": [
  {
   "cell_type": "markdown",
   "id": "2a4d8739-72ff-45b7-8086-5868f6af73b5",
   "metadata": {},
   "source": [
    "# References\n",
    "\n",
    "References and further reading\n",
    "\n",
    "## Glossary\n",
    "\n",
    "A glossary of key terms"
   ]
  }
 ],
 "metadata": {
  "kernelspec": {
   "display_name": "Python 3 (ipykernel)",
   "language": "python",
   "name": "python3"
  },
  "language_info": {
   "codemirror_mode": {
    "name": "ipython",
    "version": 3
   },
   "file_extension": ".py",
   "mimetype": "text/x-python",
   "name": "python",
   "nbconvert_exporter": "python",
   "pygments_lexer": "ipython3",
   "version": "3.10.4"
  }
 },
 "nbformat": 4,
 "nbformat_minor": 5
}
